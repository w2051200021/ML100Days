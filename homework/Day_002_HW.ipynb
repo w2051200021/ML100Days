{
 "cells": [
  {
   "cell_type": "markdown",
   "metadata": {},
   "source": [
    "## [作業目標]\n",
    "了解機器學習適合應用的領域與範疇。"
   ]
  },
  {
   "cell_type": "markdown",
   "metadata": {},
   "source": [
    "## [作業重點]\n",
    "透過瞭解機器學習的運作方式，找出非常適用機器學習應用的領域及其原因"
   ]
  },
  {
   "cell_type": "markdown",
   "metadata": {},
   "source": [
    "## 作業\n",
    "請找出一個你認為機器學習可以發光發熱的領域並闡述原因? "
   ]
  },
  {
   "cell_type": "markdown",
   "metadata": {},
   "source": [
    "我認為用機器學習的方式，輔助人類建構目前尚未理解的科學領域或許是可以嘗試的地方。例如渾沌系統，在上世紀末起興起研究熱潮，但先盛後衰，研究進度至今沒有太大的突破。再以流體力學的為例，我們可以量測流體的各種性質，流速、深度、密度、壓力、黏滯性、可壓縮性等，但是面對到如何建構適合描述流體運動的模型時，我們往往會敗在紊流的渾沌性質。其他各項人類目前無法突破的領域亦然，我的想像是，既然用人力無法做到的事情，嘗試換個方法，透過資料探勘、分析加上機器學習的方法與電腦強大的運算能力，雖然不一定能發光發熱，但也許真能從觀測的資料中找到某些線索，讓我們對於這個宇宙的物理模型更加了解，推動人類科技的進程。"
   ]
  },
  {
   "cell_type": "markdown",
   "metadata": {},
   "source": [
    "### Finished time: 2020-06-05 00:14:15"
   ]
  }
 ],
 "metadata": {
  "kernelspec": {
   "display_name": "Python 3",
   "language": "python",
   "name": "python3"
  },
  "language_info": {
   "codemirror_mode": {
    "name": "ipython",
    "version": 3
   },
   "file_extension": ".py",
   "mimetype": "text/x-python",
   "name": "python",
   "nbconvert_exporter": "python",
   "pygments_lexer": "ipython3",
   "version": "3.7.6"
  }
 },
 "nbformat": 4,
 "nbformat_minor": 2
}
