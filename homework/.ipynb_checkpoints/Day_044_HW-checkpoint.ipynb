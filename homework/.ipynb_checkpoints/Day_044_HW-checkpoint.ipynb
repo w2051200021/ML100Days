{
 "cells": [
  {
   "cell_type": "markdown",
   "metadata": {},
   "source": [
    "## [作業重點]\n",
    "確保你了解隨機森林模型中每個超參數的意義，並觀察調整超參數對結果的影響"
   ]
  },
  {
   "cell_type": "markdown",
   "metadata": {},
   "source": [
    "## 作業\n",
    "\n",
    "### 1. 試著調整 RandomForestClassifier(...) 中的參數，並觀察是否會改變結果？"
   ]
  },
  {
   "cell_type": "code",
   "execution_count": 1,
   "metadata": {},
   "outputs": [],
   "source": [
    "import numpy as np\n",
    "import pandas as pd\n",
    "from sklearn import datasets, metrics\n",
    "from sklearn import tree\n",
    "from sklearn.ensemble import RandomForestClassifier, RandomForestRegressor\n",
    "from sklearn.model_selection import train_test_split\n",
    "import matplotlib.pyplot as plt\n",
    "plt.style.use('seaborn')"
   ]
  },
  {
   "cell_type": "code",
   "execution_count": 2,
   "metadata": {},
   "outputs": [],
   "source": [
    "iris = datasets.load_iris()\n",
    "wine = datasets.load_wine()\n",
    "boston = datasets.load_boston()"
   ]
  },
  {
   "cell_type": "code",
   "execution_count": 3,
   "metadata": {},
   "outputs": [],
   "source": [
    "x_train, x_test, y_train, y_test = train_test_split(iris.data, iris.target, test_size = 0.2, random_state = 42)"
   ]
  },
  {
   "cell_type": "markdown",
   "metadata": {},
   "source": [
    "#### 調整 n_estimators ：\n",
    "> 測試不同隨機森林中，樹的數量。可以發現，當樹越多的時候，準確率越高，越不容易過擬合。"
   ]
  },
  {
   "cell_type": "code",
   "execution_count": 4,
   "metadata": {},
   "outputs": [
    {
     "name": "stdout",
     "output_type": "stream",
     "text": [
      "number of tree: 1\n",
      "train accuracy: 0.9916666666666667\n",
      "test accuracy: 1.0\n",
      "\n",
      "number of tree: 5\n",
      "train accuracy: 0.9833333333333333\n",
      "test accuracy: 0.9666666666666667\n",
      "\n",
      "number of tree: 10\n",
      "train accuracy: 1.0\n",
      "test accuracy: 1.0\n",
      "\n",
      "number of tree: 50\n",
      "train accuracy: 1.0\n",
      "test accuracy: 1.0\n",
      "\n",
      "number of tree: 100\n",
      "train accuracy: 1.0\n",
      "test accuracy: 1.0\n",
      "\n"
     ]
    }
   ],
   "source": [
    "tree_number = [1, 5, 10, 50, 100]\n",
    "for i in range(len(tree_number)):\n",
    "    clf = RandomForestClassifier(n_estimators = tree_number[i], random_state = 42)\n",
    "    clf.fit(x_train, y_train)\n",
    "    y_pred = clf.predict(x_test)\n",
    "    print(f'number of tree: {tree_number[i]}')\n",
    "    print(f'train accuracy: {metrics.accuracy_score(clf.predict(x_train), y_train)}')\n",
    "    print(f'test accuracy: {metrics.accuracy_score(y_pred, y_test)}\\n')"
   ]
  },
  {
   "cell_type": "code",
   "execution_count": 5,
   "metadata": {},
   "outputs": [
    {
     "data": {
      "text/html": [
       "<div>\n",
       "<style scoped>\n",
       "    .dataframe tbody tr th:only-of-type {\n",
       "        vertical-align: middle;\n",
       "    }\n",
       "\n",
       "    .dataframe tbody tr th {\n",
       "        vertical-align: top;\n",
       "    }\n",
       "\n",
       "    .dataframe thead th {\n",
       "        text-align: right;\n",
       "    }\n",
       "</style>\n",
       "<table border=\"1\" class=\"dataframe\">\n",
       "  <thead>\n",
       "    <tr style=\"text-align: right;\">\n",
       "      <th></th>\n",
       "      <th>Feature</th>\n",
       "      <th>Importance</th>\n",
       "    </tr>\n",
       "  </thead>\n",
       "  <tbody>\n",
       "    <tr>\n",
       "      <th>2</th>\n",
       "      <td>petal length (cm)</td>\n",
       "      <td>0.439994</td>\n",
       "    </tr>\n",
       "    <tr>\n",
       "      <th>3</th>\n",
       "      <td>petal width (cm)</td>\n",
       "      <td>0.421522</td>\n",
       "    </tr>\n",
       "    <tr>\n",
       "      <th>0</th>\n",
       "      <td>sepal length (cm)</td>\n",
       "      <td>0.108098</td>\n",
       "    </tr>\n",
       "    <tr>\n",
       "      <th>1</th>\n",
       "      <td>sepal width (cm)</td>\n",
       "      <td>0.030387</td>\n",
       "    </tr>\n",
       "  </tbody>\n",
       "</table>\n",
       "</div>"
      ],
      "text/plain": [
       "             Feature  Importance\n",
       "2  petal length (cm)    0.439994\n",
       "3   petal width (cm)    0.421522\n",
       "0  sepal length (cm)    0.108098\n",
       "1   sepal width (cm)    0.030387"
      ]
     },
     "execution_count": 5,
     "metadata": {},
     "output_type": "execute_result"
    }
   ],
   "source": [
    "pd.DataFrame({'Feature':iris.feature_names, 'Importance':clf.feature_importances_}).sort_values(by = 'Importance', ascending = False)"
   ]
  },
  {
   "cell_type": "markdown",
   "metadata": {},
   "source": [
    "#### 調整 max_depth："
   ]
  },
  {
   "cell_type": "code",
   "execution_count": 6,
   "metadata": {},
   "outputs": [
    {
     "name": "stdout",
     "output_type": "stream",
     "text": [
      "depth of tree: 1\n",
      "train accuracy: 0.95\n",
      "test accuracy: 1.0\n",
      "\n",
      "depth of tree: 2\n",
      "train accuracy: 0.95\n",
      "test accuracy: 1.0\n",
      "\n",
      "depth of tree: 3\n",
      "train accuracy: 0.9583333333333334\n",
      "test accuracy: 1.0\n",
      "\n",
      "depth of tree: 4\n",
      "train accuracy: 0.9833333333333333\n",
      "test accuracy: 1.0\n",
      "\n",
      "depth of tree: 5\n",
      "train accuracy: 1.0\n",
      "test accuracy: 1.0\n",
      "\n"
     ]
    }
   ],
   "source": [
    "tree_depth = [1, 2, 3, 4, 5]\n",
    "for i in range(len(tree_depth)):\n",
    "    clf = RandomForestClassifier(max_depth = tree_depth[i], random_state = 42)\n",
    "    clf.fit(x_train, y_train)\n",
    "    y_pred = clf.predict(x_test)\n",
    "    print(f'depth of tree: {tree_depth[i]}')\n",
    "    print(f'train accuracy: {metrics.accuracy_score(clf.predict(x_train), y_train)}')\n",
    "    print(f'test accuracy: {metrics.accuracy_score(y_pred, y_test)}\\n')"
   ]
  },
  {
   "cell_type": "markdown",
   "metadata": {},
   "source": [
    "### 2. 改用其他資料集 (boston, wine)，並與回歸模型與決策樹的結果進行比較"
   ]
  },
  {
   "cell_type": "markdown",
   "metadata": {},
   "source": [
    "#### 使用波士頓房價資料集"
   ]
  },
  {
   "cell_type": "code",
   "execution_count": 7,
   "metadata": {},
   "outputs": [],
   "source": [
    "x_train, x_test, y_train, y_test = train_test_split(boston.data, boston.target, test_size = 0.2, random_state = 42)"
   ]
  },
  {
   "cell_type": "markdown",
   "metadata": {},
   "source": [
    "#### 調整 n_estimators：\n",
    "> 調整隨機森林的樹數量，樹的數量越多，對訓練和測試資料集來說都會學的越好。但最佳數量還是有一定上限？"
   ]
  },
  {
   "cell_type": "code",
   "execution_count": 8,
   "metadata": {},
   "outputs": [
    {
     "name": "stdout",
     "output_type": "stream",
     "text": [
      "number of tree: 1\n",
      "train loss: 13.460816831683168\n",
      "test loss: 22.048137254901963\n",
      "\n",
      "number of tree: 5\n",
      "train loss: 4.663555445544555\n",
      "test loss: 15.097450980392157\n",
      "\n",
      "number of tree: 10\n",
      "train loss: 2.653728217821782\n",
      "test loss: 9.05517549019608\n",
      "\n",
      "number of tree: 50\n",
      "train loss: 1.909476029702971\n",
      "test loss: 7.901706941176477\n",
      "\n",
      "number of tree: 100\n",
      "train loss: 1.9865584900990092\n",
      "test loss: 8.091292460784315\n",
      "\n",
      "number of tree: 500\n",
      "train loss: 1.897243979900973\n",
      "test loss: 8.832380928627424\n",
      "\n",
      "number of tree: 1000\n",
      "train loss: 1.8966713652722504\n",
      "test loss: 8.726581530196045\n",
      "\n"
     ]
    }
   ],
   "source": [
    "tree_number = [1, 5, 10, 50, 100, 500, 1000]\n",
    "for i in range(len(tree_number)):\n",
    "    reg = RandomForestRegressor(n_estimators = tree_number[i], random_state = 42)\n",
    "    reg.fit(x_train, y_train)\n",
    "    y_pred = reg.predict(x_test)\n",
    "    print(f'number of tree: {tree_number[i]}')\n",
    "    print(f'train loss: {metrics.mean_squared_error(reg.predict(x_train), y_train)}')\n",
    "    print(f'test loss: {metrics.mean_squared_error(y_pred, y_test)}\\n')"
   ]
  },
  {
   "cell_type": "code",
   "execution_count": 9,
   "metadata": {},
   "outputs": [
    {
     "data": {
      "text/html": [
       "<div>\n",
       "<style scoped>\n",
       "    .dataframe tbody tr th:only-of-type {\n",
       "        vertical-align: middle;\n",
       "    }\n",
       "\n",
       "    .dataframe tbody tr th {\n",
       "        vertical-align: top;\n",
       "    }\n",
       "\n",
       "    .dataframe thead th {\n",
       "        text-align: right;\n",
       "    }\n",
       "</style>\n",
       "<table border=\"1\" class=\"dataframe\">\n",
       "  <thead>\n",
       "    <tr style=\"text-align: right;\">\n",
       "      <th></th>\n",
       "      <th>Feature</th>\n",
       "      <th>Importance</th>\n",
       "    </tr>\n",
       "  </thead>\n",
       "  <tbody>\n",
       "    <tr>\n",
       "      <th>5</th>\n",
       "      <td>RM</td>\n",
       "      <td>0.483221</td>\n",
       "    </tr>\n",
       "    <tr>\n",
       "      <th>12</th>\n",
       "      <td>LSTAT</td>\n",
       "      <td>0.333101</td>\n",
       "    </tr>\n",
       "    <tr>\n",
       "      <th>7</th>\n",
       "      <td>DIS</td>\n",
       "      <td>0.056049</td>\n",
       "    </tr>\n",
       "    <tr>\n",
       "      <th>0</th>\n",
       "      <td>CRIM</td>\n",
       "      <td>0.037103</td>\n",
       "    </tr>\n",
       "    <tr>\n",
       "      <th>4</th>\n",
       "      <td>NOX</td>\n",
       "      <td>0.017179</td>\n",
       "    </tr>\n",
       "    <tr>\n",
       "      <th>9</th>\n",
       "      <td>TAX</td>\n",
       "      <td>0.016001</td>\n",
       "    </tr>\n",
       "    <tr>\n",
       "      <th>10</th>\n",
       "      <td>PTRATIO</td>\n",
       "      <td>0.015505</td>\n",
       "    </tr>\n",
       "    <tr>\n",
       "      <th>6</th>\n",
       "      <td>AGE</td>\n",
       "      <td>0.014903</td>\n",
       "    </tr>\n",
       "    <tr>\n",
       "      <th>11</th>\n",
       "      <td>B</td>\n",
       "      <td>0.012906</td>\n",
       "    </tr>\n",
       "    <tr>\n",
       "      <th>2</th>\n",
       "      <td>INDUS</td>\n",
       "      <td>0.006557</td>\n",
       "    </tr>\n",
       "    <tr>\n",
       "      <th>8</th>\n",
       "      <td>RAD</td>\n",
       "      <td>0.004648</td>\n",
       "    </tr>\n",
       "    <tr>\n",
       "      <th>1</th>\n",
       "      <td>ZN</td>\n",
       "      <td>0.001669</td>\n",
       "    </tr>\n",
       "    <tr>\n",
       "      <th>3</th>\n",
       "      <td>CHAS</td>\n",
       "      <td>0.001158</td>\n",
       "    </tr>\n",
       "  </tbody>\n",
       "</table>\n",
       "</div>"
      ],
      "text/plain": [
       "    Feature  Importance\n",
       "5        RM    0.483221\n",
       "12    LSTAT    0.333101\n",
       "7       DIS    0.056049\n",
       "0      CRIM    0.037103\n",
       "4       NOX    0.017179\n",
       "9       TAX    0.016001\n",
       "10  PTRATIO    0.015505\n",
       "6       AGE    0.014903\n",
       "11        B    0.012906\n",
       "2     INDUS    0.006557\n",
       "8       RAD    0.004648\n",
       "1        ZN    0.001669\n",
       "3      CHAS    0.001158"
      ]
     },
     "execution_count": 9,
     "metadata": {},
     "output_type": "execute_result"
    }
   ],
   "source": [
    "pd.DataFrame({'Feature':boston.feature_names, 'Importance':reg.feature_importances_}).sort_values(by = 'Importance', ascending = False)"
   ]
  },
  {
   "cell_type": "markdown",
   "metadata": {},
   "source": [
    "#### 把隨機森林的前 5 棵樹畫出來看看~"
   ]
  },
  {
   "cell_type": "code",
   "execution_count": null,
   "metadata": {
    "scrolled": false
   },
   "outputs": [],
   "source": [
    "plt.figure(figsize = (8,8)) \n",
    "for i in range(5):\n",
    "    tree.plot_tree(reg.estimators_[i], filled = True, \n",
    "                   feature_names = boston.feature_names)\n",
    "    plt.show()"
   ]
  },
  {
   "cell_type": "markdown",
   "metadata": {},
   "source": [
    "#### 調整 max_depth："
   ]
  },
  {
   "cell_type": "code",
   "execution_count": null,
   "metadata": {},
   "outputs": [],
   "source": [
    "tree_depth = [1, 2, 3, 4, 5]\n",
    "for i in range(len(tree_depth)):\n",
    "    reg = RandomForestRegressor(max_depth = tree_depth[i], random_state = 42)\n",
    "    reg.fit(x_train, y_train)\n",
    "    y_pred = reg.predict(x_test)\n",
    "    print(f'depth of tree: {tree_depth[i]}')\n",
    "    print(f'train loss: {metrics.mean_squared_error(reg.predict(x_train), y_train)}')\n",
    "    print(f'train R2: {metrics.r2_score(reg.predict(x_train), y_train)}')\n",
    "    print(f'test loss: {metrics.mean_squared_error(y_pred, y_test)}')\n",
    "    print(f'test R2: {metrics.r2_score(y_pred, y_test)}\\n')"
   ]
  },
  {
   "cell_type": "code",
   "execution_count": null,
   "metadata": {},
   "outputs": [],
   "source": []
  }
 ],
 "metadata": {
  "kernelspec": {
   "display_name": "Python 3",
   "language": "python",
   "name": "python3"
  },
  "language_info": {
   "codemirror_mode": {
    "name": "ipython",
    "version": 3
   },
   "file_extension": ".py",
   "mimetype": "text/x-python",
   "name": "python",
   "nbconvert_exporter": "python",
   "pygments_lexer": "ipython3",
   "version": "3.7.6"
  }
 },
 "nbformat": 4,
 "nbformat_minor": 2
}
