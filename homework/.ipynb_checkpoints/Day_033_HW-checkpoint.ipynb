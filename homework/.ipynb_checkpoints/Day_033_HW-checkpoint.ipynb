{
 "cells": [
  {
   "cell_type": "markdown",
   "metadata": {},
   "source": [
    "## 練習時間"
   ]
  },
  {
   "cell_type": "markdown",
   "metadata": {},
   "source": [
    "請觀看李宏毅教授以神奇寶貝進化 CP 值預測的範例，解說何謂機器學習與過擬合。並回答以下問題"
   ]
  },
  {
   "cell_type": "markdown",
   "metadata": {},
   "source": [
    "[youtube](https://www.youtube.com/watch?v=fegAeph9UaA)"
   ]
  },
  {
   "cell_type": "markdown",
   "metadata": {},
   "source": [
    "### 1. 模型的泛化能力 (generalization) 是指什麼？ \n",
    "> 機器學習的步驟是先以蒐集來的資料建立模型，透過最佳化誤差函數（Loss Function）調整模型參數，讓參數使模型預測值與已知資料相比的誤差收斂在可接受範圍內；或者，新增變數調整模型增加複雜度。然而在模型增加複雜度的同時，有可能發生過擬合（Overfitting）的情況，也就是模型在訓練資料集有不錯的預估能力，但是遇到沒看過的資料時，預測能力大幅下降。要解決這樣的問題，可以考慮將參數正規化（Regularization）使模型更加平滑，降低模型隨參數變動的程度、增加資料數量。綜合上述，對於模型來說泛化能力（Generalization）就是指當一個訓練好的模型，遇到一筆新的資料集的時候，該模型對於新資料的預測能力。泛化能力越好，模型解釋能力就越好。"
   ]
  },
  {
   "cell_type": "markdown",
   "metadata": {},
   "source": [
    "### 2. 分類問題與回歸問題分別可用的目標函數有哪些？\n",
    "> 分類問題的目標函數－準確率（Accuracy）、AUC；迴歸問題的目標函數－方均誤差（Mean Square Error）、絕對誤差（Absolute Error）"
   ]
  }
 ],
 "metadata": {
  "kernelspec": {
   "display_name": "Python 3",
   "language": "python",
   "name": "python3"
  },
  "language_info": {
   "codemirror_mode": {
    "name": "ipython",
    "version": 3
   },
   "file_extension": ".py",
   "mimetype": "text/x-python",
   "name": "python",
   "nbconvert_exporter": "python",
   "pygments_lexer": "ipython3",
   "version": "3.7.6"
  }
 },
 "nbformat": 4,
 "nbformat_minor": 2
}
