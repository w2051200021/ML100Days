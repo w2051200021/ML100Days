{
 "cells": [
  {
   "cell_type": "markdown",
   "metadata": {
    "collapsed": true
   },
   "source": [
    "# 作業 : (Kaggle)鐵達尼生存預測\n",
    "https://www.kaggle.com/c/titanic"
   ]
  },
  {
   "cell_type": "markdown",
   "metadata": {},
   "source": [
    "# [作業目標]\n",
    "- 試著模仿範例寫法, 在鐵達尼生存預測中, 觀察填補缺值以及 標準化 / 最小最大化 對數值的影響"
   ]
  },
  {
   "cell_type": "markdown",
   "metadata": {},
   "source": [
    "# [作業重點]\n",
    "- 觀察替換不同補缺方式, 對於特徵的影響 (In[4]~In[6], Out[4]~Out[6])\n",
    "- 觀察替換不同特徵縮放方式, 對於特徵的影響 (In[7]~In[8], Out[7]~Out[8])"
   ]
  },
  {
   "cell_type": "code",
   "execution_count": 1,
   "metadata": {},
   "outputs": [
    {
     "data": {
      "text/html": [
       "<div>\n",
       "<style scoped>\n",
       "    .dataframe tbody tr th:only-of-type {\n",
       "        vertical-align: middle;\n",
       "    }\n",
       "\n",
       "    .dataframe tbody tr th {\n",
       "        vertical-align: top;\n",
       "    }\n",
       "\n",
       "    .dataframe thead th {\n",
       "        text-align: right;\n",
       "    }\n",
       "</style>\n",
       "<table border=\"1\" class=\"dataframe\">\n",
       "  <thead>\n",
       "    <tr style=\"text-align: right;\">\n",
       "      <th></th>\n",
       "      <th>Pclass</th>\n",
       "      <th>Name</th>\n",
       "      <th>Sex</th>\n",
       "      <th>Age</th>\n",
       "      <th>SibSp</th>\n",
       "      <th>Parch</th>\n",
       "      <th>Ticket</th>\n",
       "      <th>Fare</th>\n",
       "      <th>Cabin</th>\n",
       "      <th>Embarked</th>\n",
       "    </tr>\n",
       "  </thead>\n",
       "  <tbody>\n",
       "    <tr>\n",
       "      <th>0</th>\n",
       "      <td>3</td>\n",
       "      <td>Braund, Mr. Owen Harris</td>\n",
       "      <td>male</td>\n",
       "      <td>22.0</td>\n",
       "      <td>1</td>\n",
       "      <td>0</td>\n",
       "      <td>A/5 21171</td>\n",
       "      <td>7.2500</td>\n",
       "      <td>NaN</td>\n",
       "      <td>S</td>\n",
       "    </tr>\n",
       "    <tr>\n",
       "      <th>1</th>\n",
       "      <td>1</td>\n",
       "      <td>Cumings, Mrs. John Bradley (Florence Briggs Th...</td>\n",
       "      <td>female</td>\n",
       "      <td>38.0</td>\n",
       "      <td>1</td>\n",
       "      <td>0</td>\n",
       "      <td>PC 17599</td>\n",
       "      <td>71.2833</td>\n",
       "      <td>C85</td>\n",
       "      <td>C</td>\n",
       "    </tr>\n",
       "    <tr>\n",
       "      <th>2</th>\n",
       "      <td>3</td>\n",
       "      <td>Heikkinen, Miss. Laina</td>\n",
       "      <td>female</td>\n",
       "      <td>26.0</td>\n",
       "      <td>0</td>\n",
       "      <td>0</td>\n",
       "      <td>STON/O2. 3101282</td>\n",
       "      <td>7.9250</td>\n",
       "      <td>NaN</td>\n",
       "      <td>S</td>\n",
       "    </tr>\n",
       "    <tr>\n",
       "      <th>3</th>\n",
       "      <td>1</td>\n",
       "      <td>Futrelle, Mrs. Jacques Heath (Lily May Peel)</td>\n",
       "      <td>female</td>\n",
       "      <td>35.0</td>\n",
       "      <td>1</td>\n",
       "      <td>0</td>\n",
       "      <td>113803</td>\n",
       "      <td>53.1000</td>\n",
       "      <td>C123</td>\n",
       "      <td>S</td>\n",
       "    </tr>\n",
       "    <tr>\n",
       "      <th>4</th>\n",
       "      <td>3</td>\n",
       "      <td>Allen, Mr. William Henry</td>\n",
       "      <td>male</td>\n",
       "      <td>35.0</td>\n",
       "      <td>0</td>\n",
       "      <td>0</td>\n",
       "      <td>373450</td>\n",
       "      <td>8.0500</td>\n",
       "      <td>NaN</td>\n",
       "      <td>S</td>\n",
       "    </tr>\n",
       "  </tbody>\n",
       "</table>\n",
       "</div>"
      ],
      "text/plain": [
       "   Pclass                                               Name     Sex   Age  \\\n",
       "0       3                            Braund, Mr. Owen Harris    male  22.0   \n",
       "1       1  Cumings, Mrs. John Bradley (Florence Briggs Th...  female  38.0   \n",
       "2       3                             Heikkinen, Miss. Laina  female  26.0   \n",
       "3       1       Futrelle, Mrs. Jacques Heath (Lily May Peel)  female  35.0   \n",
       "4       3                           Allen, Mr. William Henry    male  35.0   \n",
       "\n",
       "   SibSp  Parch            Ticket     Fare Cabin Embarked  \n",
       "0      1      0         A/5 21171   7.2500   NaN        S  \n",
       "1      1      0          PC 17599  71.2833   C85        C  \n",
       "2      0      0  STON/O2. 3101282   7.9250   NaN        S  \n",
       "3      1      0            113803  53.1000  C123        S  \n",
       "4      0      0            373450   8.0500   NaN        S  "
      ]
     },
     "execution_count": 1,
     "metadata": {},
     "output_type": "execute_result"
    }
   ],
   "source": [
    "# 做完特徵工程前的所有準備 (與前範例相同)\n",
    "import pandas as pd\n",
    "import numpy as np\n",
    "import copy\n",
    "from sklearn.preprocessing import MinMaxScaler, StandardScaler\n",
    "from sklearn.model_selection import cross_val_score\n",
    "from sklearn.linear_model import LogisticRegression\n",
    "\n",
    "data_path = 'C:/Users/user/Desktop/ML marathon/data/Feature Engineering/'\n",
    "df_train = pd.read_csv(data_path + 'titanic_train.csv')\n",
    "df_test = pd.read_csv(data_path + 'titanic_test.csv')\n",
    "\n",
    "train_Y = df_train['Survived']\n",
    "ids = df_test['PassengerId']\n",
    "df_train = df_train.drop(['PassengerId', 'Survived'] , axis=1)\n",
    "df_test = df_test.drop(['PassengerId'] , axis=1)\n",
    "df = pd.concat([df_train,df_test]) # 因為要調整缺失值，先把全部資料都拼在一起\n",
    "df.head()"
   ]
  },
  {
   "cell_type": "code",
   "execution_count": 2,
   "metadata": {},
   "outputs": [
    {
     "name": "stdout",
     "output_type": "stream",
     "text": [
      "5 Numeric Features : ['Pclass', 'Age', 'SibSp', 'Parch', 'Fare']\n",
      "\n"
     ]
    }
   ],
   "source": [
    "#只取 int64, float64 兩種數值型欄位, 存於 num_features 中\n",
    "num_features = []\n",
    "for dtype, feature in zip(df.dtypes, df.columns):\n",
    "    if dtype == 'float64' or dtype == 'int64':\n",
    "        num_features.append(feature)\n",
    "print(f'{len(num_features)} Numeric Features : {num_features}\\n')"
   ]
  },
  {
   "cell_type": "code",
   "execution_count": 3,
   "metadata": {},
   "outputs": [
    {
     "data": {
      "text/html": [
       "<div>\n",
       "<style scoped>\n",
       "    .dataframe tbody tr th:only-of-type {\n",
       "        vertical-align: middle;\n",
       "    }\n",
       "\n",
       "    .dataframe tbody tr th {\n",
       "        vertical-align: top;\n",
       "    }\n",
       "\n",
       "    .dataframe thead th {\n",
       "        text-align: right;\n",
       "    }\n",
       "</style>\n",
       "<table border=\"1\" class=\"dataframe\">\n",
       "  <thead>\n",
       "    <tr style=\"text-align: right;\">\n",
       "      <th></th>\n",
       "      <th>Pclass</th>\n",
       "      <th>Age</th>\n",
       "      <th>SibSp</th>\n",
       "      <th>Parch</th>\n",
       "      <th>Fare</th>\n",
       "    </tr>\n",
       "  </thead>\n",
       "  <tbody>\n",
       "    <tr>\n",
       "      <th>0</th>\n",
       "      <td>3</td>\n",
       "      <td>22.0</td>\n",
       "      <td>1</td>\n",
       "      <td>0</td>\n",
       "      <td>7.2500</td>\n",
       "    </tr>\n",
       "    <tr>\n",
       "      <th>1</th>\n",
       "      <td>1</td>\n",
       "      <td>38.0</td>\n",
       "      <td>1</td>\n",
       "      <td>0</td>\n",
       "      <td>71.2833</td>\n",
       "    </tr>\n",
       "    <tr>\n",
       "      <th>2</th>\n",
       "      <td>3</td>\n",
       "      <td>26.0</td>\n",
       "      <td>0</td>\n",
       "      <td>0</td>\n",
       "      <td>7.9250</td>\n",
       "    </tr>\n",
       "    <tr>\n",
       "      <th>3</th>\n",
       "      <td>1</td>\n",
       "      <td>35.0</td>\n",
       "      <td>1</td>\n",
       "      <td>0</td>\n",
       "      <td>53.1000</td>\n",
       "    </tr>\n",
       "    <tr>\n",
       "      <th>4</th>\n",
       "      <td>3</td>\n",
       "      <td>35.0</td>\n",
       "      <td>0</td>\n",
       "      <td>0</td>\n",
       "      <td>8.0500</td>\n",
       "    </tr>\n",
       "  </tbody>\n",
       "</table>\n",
       "</div>"
      ],
      "text/plain": [
       "   Pclass   Age  SibSp  Parch     Fare\n",
       "0       3  22.0      1      0   7.2500\n",
       "1       1  38.0      1      0  71.2833\n",
       "2       3  26.0      0      0   7.9250\n",
       "3       1  35.0      1      0  53.1000\n",
       "4       3  35.0      0      0   8.0500"
      ]
     },
     "execution_count": 3,
     "metadata": {},
     "output_type": "execute_result"
    }
   ],
   "source": [
    "# 削減文字型欄位, 只剩數值型欄位\n",
    "df = df[num_features]\n",
    "train_num = train_Y.shape[0] # 紀錄訓練資料集有多少數據，待會就從 df 取這麼多個。\n",
    "df.head()"
   ]
  },
  {
   "cell_type": "markdown",
   "metadata": {
    "collapsed": true
   },
   "source": [
    "# 作業1\n",
    "* 試著在補空值區塊, 替換並執行兩種以上填補的缺值, 看看何者比較好?"
   ]
  },
  {
   "cell_type": "markdown",
   "metadata": {},
   "source": [
    "#### 先看一下各個欄位資料類型"
   ]
  },
  {
   "cell_type": "code",
   "execution_count": 60,
   "metadata": {},
   "outputs": [
    {
     "name": "stdout",
     "output_type": "stream",
     "text": [
      "Pclass      0\n",
      "Age       263\n",
      "SibSp       0\n",
      "Parch       0\n",
      "Fare        1\n",
      "dtype: int64\n"
     ]
    }
   ],
   "source": [
    "print(df.isnull().sum()) # '年齡' 跟 '票價' 有缺值"
   ]
  },
  {
   "cell_type": "code",
   "execution_count": 26,
   "metadata": {},
   "outputs": [
    {
     "data": {
      "text/plain": [
       "Pclass     3.0000\n",
       "Age       28.0000\n",
       "SibSp      0.0000\n",
       "Parch      0.0000\n",
       "Fare      14.4542\n",
       "dtype: float64"
      ]
     },
     "execution_count": 26,
     "metadata": {},
     "output_type": "execute_result"
    }
   ],
   "source": [
    "df.median()"
   ]
  },
  {
   "cell_type": "code",
   "execution_count": 27,
   "metadata": {
    "scrolled": true
   },
   "outputs": [
    {
     "data": {
      "text/plain": [
       "Pclass     2.294882\n",
       "Age       29.881138\n",
       "SibSp      0.498854\n",
       "Parch      0.385027\n",
       "Fare      33.295479\n",
       "dtype: float64"
      ]
     },
     "execution_count": 27,
     "metadata": {},
     "output_type": "execute_result"
    }
   ],
   "source": [
    "df.mean()"
   ]
  },
  {
   "cell_type": "code",
   "execution_count": 77,
   "metadata": {},
   "outputs": [
    {
     "name": "stdout",
     "output_type": "stream",
     "text": [
      "mean of Age:  29.881137667304014\n",
      "median of Age:  28.0\n",
      "mode of Age: 24.0\n",
      "skewness of Age:  0.39153679952469117\n"
     ]
    },
    {
     "data": {
      "image/png": "[encoded data removed]",
      "text/plain": [
       "<Figure size 432x288 with 1 Axes>"
      ]
     },
     "metadata": {
      "needs_background": "light"
     },
     "output_type": "display_data"
    }
   ],
   "source": [
    "import matplotlib.pyplot as plt\n",
    "# 畫出年齡的直方圖\n",
    "print('mean of Age: ', df['Age'].mean())\n",
    "print('median of Age: ', df['Age'].median())\n",
    "print('mode of Age:', df['Age'].value_counts().index[0])\n",
    "print('skewness of Age: ', 3 * (df['Age'].mean() - df['Age'].median()) / df['Age'].std()) # 的確有偏態\n",
    "df['Age'].hist(bins = 50)\n",
    "plt.title('Age')\n",
    "plt.legend(['Original'])\n",
    "plt.show()"
   ]
  },
  {
   "cell_type": "code",
   "execution_count": 78,
   "metadata": {
    "scrolled": true
   },
   "outputs": [
    {
     "name": "stdout",
     "output_type": "stream",
     "text": [
      "mean of Fare:  33.2954792813456\n",
      "median of Fare:  14.4542\n",
      "mode of Fare: 8.05\n",
      "skewness of Fare:  1.0920651509587351\n"
     ]
    },
    {
     "data": {
      "image/png": "[encoded data removed]",
      "text/plain": [
       "<Figure size 432x288 with 1 Axes>"
      ]
     },
     "metadata": {
      "needs_background": "light"
     },
     "output_type": "display_data"
    }
   ],
   "source": [
    "# 畫出票價的直方圖\n",
    "print('mean of Fare: ', df['Fare'].mean())\n",
    "print('median of Fare: ', df['Fare'].median())\n",
    "print('mode of Fare:', df['Fare'].value_counts().index[0])\n",
    "print('skewness of Fare: ', 3 * (df['Fare'].mean() - df['Fare'].median()) / df['Fare'].std()) # 的確有偏態\n",
    "df['Fare'].hist()\n",
    "df[df['Fare'] < df['Fare'].quantile(0.99)]['Fare'].hist()\n",
    "plt.title('Fare')\n",
    "plt.legend(['Original', ' < Quantile(0.99)'])\n",
    "plt.show()"
   ]
  },
  {
   "cell_type": "code",
   "execution_count": 82,
   "metadata": {},
   "outputs": [
    {
     "data": {
      "image/png": "[encoded data removed]",
      "text/plain": [
       "<Figure size 432x288 with 1 Axes>"
      ]
     },
     "metadata": {
      "needs_background": "light"
     },
     "output_type": "display_data"
    }
   ],
   "source": [
    "import seaborn as sns\n",
    "sns.boxplot(df['Fare']) # 看來有不少人坐頭等艙\n",
    "plt.show()"
   ]
  },
  {
   "cell_type": "markdown",
   "metadata": {},
   "source": [
    "#### 某些欄位數值有偏態，或者並非連續。如果要更確實的填補缺值可能要分開進行。"
   ]
  },
  {
   "cell_type": "code",
   "execution_count": 33,
   "metadata": {},
   "outputs": [
    {
     "name": "stdout",
     "output_type": "stream",
     "text": [
      "cross valadation score (NA fill with -1): 0.698180\n",
      "cross valadation score (NA fill with 0): 0.699297\n",
      "cross valadation score (NA fill with mean): 0.694790\n",
      "cross valadation score (NA fill with median): 0.694784\n"
     ]
    }
   ],
   "source": [
    "# 空值補 -1, 做羅吉斯迴歸\n",
    "df_m1 = df.fillna(-1)\n",
    "train_X = df_m1[:train_num]\n",
    "estimator = LogisticRegression()\n",
    "score_m1 = cross_val_score(estimator, train_X, train_Y, cv=5).mean()\n",
    "print('cross valadation score (NA fill with -1): {:.06f}'.format(score_m1))\n",
    "\n",
    "# 空值補 0, 做羅吉斯迴歸\n",
    "df_0 = df.fillna(0)\n",
    "train_X = df_0[:train_num]\n",
    "score_0 = cross_val_score(estimator, train_X, train_Y, cv = 5).mean()\n",
    "print('cross valadation score (NA fill with 0): {:.06f}'.format(score_0))\n",
    "\n",
    "# 空值補平均值, 做羅吉斯迴歸\n",
    "df_mn = df.fillna(df.mean())\n",
    "train_X = df_mn[:train_num]\n",
    "score_mn = cross_val_score(estimator, train_X, train_Y, cv = 5).mean()\n",
    "print('cross valadation score (NA fill with mean): {:.06f}'.format(score_mn))\n",
    "\n",
    "# 空值補中位數, 做羅吉斯迴歸\n",
    "df_md = df.fillna(df.median())\n",
    "train_X = df_md[:train_num]\n",
    "score_md = cross_val_score(estimator, train_X, train_Y, cv = 5).mean()\n",
    "print('cross valadation score (NA fill with median): {:.06f}'.format(score_md))"
   ]
  },
  {
   "cell_type": "markdown",
   "metadata": {
    "collapsed": true
   },
   "source": [
    "# 作業2\n",
    "* 使用不同的標準化方式 ( 原值 / 最小最大化 / 標準化 )，搭配羅吉斯迴歸模型，何者效果最好?"
   ]
  },
  {
   "cell_type": "markdown",
   "metadata": {},
   "source": [
    "### 標準化"
   ]
  },
  {
   "cell_type": "code",
   "execution_count": 38,
   "metadata": {},
   "outputs": [
    {
     "name": "stdout",
     "output_type": "stream",
     "text": [
      "cross valadation score (NA fill with -1): 0.698173\n",
      "cross valadation score (NA fill with 0): 0.698173\n",
      "cross valadation score (NA fill with mean): 0.695914\n",
      "cross valadation score (NA fill with median): 0.697031\n"
     ]
    }
   ],
   "source": [
    "# 空值補 -1, 加上標準化，做羅吉斯迴歸\n",
    "df_m1 = df.fillna(-1)\n",
    "train_X = StandardScaler().fit_transform(df_m1[:train_num])\n",
    "estimator = LogisticRegression()\n",
    "score_m1_z = cross_val_score(estimator, train_X, train_Y, cv=5).mean()\n",
    "print('cross valadation score (NA fill with -1): {:.06f}'.format(score_m1_z))\n",
    "\n",
    "# 空值補 0, 加上標準化，做羅吉斯迴歸\n",
    "df_0 = df.fillna(0)\n",
    "train_X = StandardScaler().fit_transform(df_0[:train_num])\n",
    "score_0_z = cross_val_score(estimator, train_X, train_Y, cv = 5).mean()\n",
    "print('cross valadation score (NA fill with 0): {:.06f}'.format(score_0_z))\n",
    "\n",
    "# 空值補平均值,加上標準化，做羅吉斯迴歸\n",
    "df_mn = df.fillna(df.mean())\n",
    "train_X = StandardScaler().fit_transform(df_mn[:train_num])\n",
    "score_mn_z = cross_val_score(estimator, train_X, train_Y, cv = 5).mean()\n",
    "print('cross valadation score (NA fill with mean): {:.06f}'.format(score_mn_z))\n",
    "\n",
    "# 空值補中位數, 加上標準化，做羅吉斯迴歸\n",
    "df_md = df.fillna(df.median())\n",
    "train_X = StandardScaler().fit_transform(df_md[:train_num])\n",
    "score_md_z = cross_val_score(estimator, train_X, train_Y, cv = 5).mean()\n",
    "print('cross valadation score (NA fill with median): {:.06f}'.format(score_md_z))\n"
   ]
  },
  {
   "cell_type": "markdown",
   "metadata": {},
   "source": [
    "### 最大最小化"
   ]
  },
  {
   "cell_type": "code",
   "execution_count": 40,
   "metadata": {},
   "outputs": [
    {
     "name": "stdout",
     "output_type": "stream",
     "text": [
      "cross valadation score (NA fill with -1): 0.700414\n",
      "cross valadation score (NA fill with 0): 0.701538\n",
      "cross valadation score (NA fill with mean): 0.700414\n",
      "cross valadation score (NA fill with median): 0.700414\n"
     ]
    }
   ],
   "source": [
    "# 空值補 -1, 加上標準化，做羅吉斯迴歸\n",
    "df_m1 = df.fillna(-1)\n",
    "train_X = MinMaxScaler().fit_transform(df_m1[:train_num])\n",
    "estimator = LogisticRegression()\n",
    "score_m1_mm = cross_val_score(estimator, train_X, train_Y, cv=5).mean()\n",
    "print('cross valadation score (NA fill with -1): {:.06f}'.format(score_m1_mm))\n",
    "\n",
    "# 空值補 0, 加上標準化，做羅吉斯迴歸\n",
    "df_0 = df.fillna(0)\n",
    "train_X = MinMaxScaler().fit_transform(df_0[:train_num])\n",
    "score_0_mm = cross_val_score(estimator, train_X, train_Y, cv = 5).mean()\n",
    "print('cross valadation score (NA fill with 0): {:.06f}'.format(score_0_mm))\n",
    "\n",
    "# 空值補平均值,加上標準化，做羅吉斯迴歸\n",
    "df_mn = df.fillna(df.mean())\n",
    "train_X = MinMaxScaler().fit_transform(df_mn[:train_num])\n",
    "score_mn_mm = cross_val_score(estimator, train_X, train_Y, cv = 5).mean()\n",
    "print('cross valadation score (NA fill with mean): {:.06f}'.format(score_mn_mm))\n",
    "\n",
    "# 空值補中位數, 加上標準化，做羅吉斯迴歸\n",
    "df_md = df.fillna(df.median())\n",
    "train_X = MinMaxScaler().fit_transform(df_md[:train_num])\n",
    "score_md_mm = cross_val_score(estimator, train_X, train_Y, cv = 5).mean()\n",
    "print('cross valadation score (NA fill with median): {:.06f}'.format(score_md_mm))\n"
   ]
  },
  {
   "cell_type": "markdown",
   "metadata": {},
   "source": [
    "#### 比較標準化與最大最小化的結果，四種填補缺值搭配的資料歸一方法都是後者效果比較好。\n",
    "> * 除了年齡資料外，多數資料不屬於常態分佈。而且，'Pclass', 'Sib Sp', 'Parch' 看起來都不是連續型資料。\n",
    "* 也因為五個數值欄位各有不同屬性，也很難說完全是因為哪一項而使結果變得更好。\n"
   ]
  }
 ],
 "metadata": {
  "kernelspec": {
   "display_name": "Python 3",
   "language": "python",
   "name": "python3"
  },
  "language_info": {
   "codemirror_mode": {
    "name": "ipython",
    "version": 3
   },
   "file_extension": ".py",
   "mimetype": "text/x-python",
   "name": "python",
   "nbconvert_exporter": "python",
   "pygments_lexer": "ipython3",
   "version": "3.7.6"
  }
 },
 "nbformat": 4,
 "nbformat_minor": 2
}
