{
 "cells": [
  {
   "cell_type": "markdown",
   "metadata": {},
   "source": [
    "## [作業重點]\n",
    "了解線性回歸的模型發展歷程，並了解優勢與劣勢，以及其使用情境"
   ]
  },
  {
   "cell_type": "markdown",
   "metadata": {},
   "source": [
    "## 作業"
   ]
  },
  {
   "cell_type": "markdown",
   "metadata": {},
   "source": [
    "請閱讀以下相關文獻，並回答以下問題\n",
    "\n",
    "[Linear Regression 詳細介紹](https://brohrer.mcknote.com/zh-Hant/how_machine_learning_works/how_linear_regression_works.html)\n",
    "\n",
    "[Logistics Regression 詳細介紹](https://medium.com/@yehjames/%E8%B3%87%E6%96%99%E5%88%86%E6%9E%90-%E6%A9%9F%E5%99%A8%E5%AD%B8%E7%BF%92-%E7%AC%AC3-3%E8%AC%9B-%E7%B7%9A%E6%80%A7%E5%88%86%E9%A1%9E-%E9%82%8F%E8%BC%AF%E6%96%AF%E5%9B%9E%E6%AD%B8-logistic-regression-%E4%BB%8B%E7%B4%B9-a1a5f47017e5)\n"
   ]
  },
  {
   "cell_type": "markdown",
   "metadata": {},
   "source": [
    "#### 1. 線性回歸模型能夠準確預測非線性關係的資料集嗎?\n",
    "> 線性回歸沒辦法預測非線性關係的資料，但是可以透過多項式迴歸預測非線性關係的資料集。"
   ]
  },
  {
   "cell_type": "markdown",
   "metadata": {},
   "source": [
    "#### 2. 回歸模型是否對資料分布有基本假設?\n",
    "> 線性迴歸一般假設資料的殘差為常態分佈，預測值為連續值，在常態假設下做最小平方法（Least Square）和最大似然法（Maximum Likelihood）會得到相同的結果；邏輯迴歸則假設數據呈柏努利分佈（Bernoulli）－非正及反，預測值為離散的類別（0, 1, ...），因此無法假設殘差是常態分佈。"
   ]
  },
  {
   "cell_type": "markdown",
   "metadata": {},
   "source": [
    "#### Linear regression\n",
    "- 預測值為連續值\n",
    "- 變數間呈線性且可線性疊加，彼此之間相互沒有完全線性相依\n",
    "- 誤差項為常態分佈，期望值為零，彼此相互獨立、且變異數相同\n",
    "- 可以用最小平方法、最大似然法求解（常態假設下兩者相同）\n",
    "\n",
    "#### Logistic regression\n",
    "- 預測值為離散值\n",
    "- 廣義線性迴歸模型的一種\n",
    "- 變數間不需要是線性（X1^2, X1X2)\n",
    "- 誤差不需要上述假設\n",
    "- 通常需要較多數據來訓練"
   ]
  },
  {
   "cell_type": "markdown",
   "metadata": {},
   "source": [
    "[Going Deeper into Regression Analysis with Assumptions, Plots & Solutions](https://www.analyticsvidhya.com/blog/2016/07/deeper-regression-analysis-assumptions-plots-solutions/)\n",
    "[中簡譯](https://blog.csdn.net/Noob_daniel/article/details/76087829)"
   ]
  }
 ],
 "metadata": {
  "kernelspec": {
   "display_name": "Python 3",
   "language": "python",
   "name": "python3"
  },
  "language_info": {
   "codemirror_mode": {
    "name": "ipython",
    "version": 3
   },
   "file_extension": ".py",
   "mimetype": "text/x-python",
   "name": "python",
   "nbconvert_exporter": "python",
   "pygments_lexer": "ipython3",
   "version": "3.7.6"
  }
 },
 "nbformat": 4,
 "nbformat_minor": 2
}
