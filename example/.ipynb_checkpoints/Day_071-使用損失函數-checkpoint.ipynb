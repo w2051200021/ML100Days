{
 "cells": [
  {
   "cell_type": "markdown",
   "metadata": {},
   "source": [
    "# 課程目標\n",
    "\n",
    "利用Keras 的 CIFAR10 dataset 來驗證損失函數對於模型精確度的影響"
   ]
  },
  {
   "cell_type": "markdown",
   "metadata": {},
   "source": [
    "# 範例重點: \n",
    "    \n",
    "    模型架構的層數\n",
    "    \n",
    "    使用何種LOSS function"
   ]
  },
  {
   "cell_type": "markdown",
   "metadata": {},
   "source": [
    "# 導入必要的libray"
   ]
  },
  {
   "cell_type": "code",
   "execution_count": 1,
   "metadata": {},
   "outputs": [],
   "source": [
    "import keras\n",
    "from keras.datasets import cifar10\n",
    "import numpy as np\n",
    "np.random.seed(10)\n",
    "#np.random.seed(10)的作用：使得隨機數據可預測"
   ]
  },
  {
   "cell_type": "markdown",
   "metadata": {},
   "source": [
    "# 資料準備"
   ]
  },
  {
   "cell_type": "code",
   "execution_count": 2,
   "metadata": {},
   "outputs": [],
   "source": [
    "#取得Keras CIFAR10 Dataset, 並分成Training 與 Test set\n",
    "(x_img_train, y_label_train), (x_img_test, y_label_test) = cifar10.load_data()"
   ]
  },
  {
   "cell_type": "code",
   "execution_count": 3,
   "metadata": {},
   "outputs": [
    {
     "name": "stdout",
     "output_type": "stream",
     "text": [
      "train data: images: (50000, 32, 32, 3)  labels: (50000, 1)\n",
      "test  data: images: (10000, 32, 32, 3)  labels: (10000, 1)\n"
     ]
    }
   ],
   "source": [
    "#確認 CIFAR10 Dataset 資料維度\n",
    "print(\"train data:\",'images:',x_img_train.shape,\n",
    "      \" labels:\",y_label_train.shape) \n",
    "print(\"test  data:\",'images:',x_img_test.shape ,\n",
    "      \" labels:\",y_label_test.shape) "
   ]
  },
  {
   "cell_type": "code",
   "execution_count": 4,
   "metadata": {},
   "outputs": [],
   "source": [
    "#資料正規化, 並設定 data array 為浮點數\n",
    "x_img_train_normalize = x_img_train.astype('float32') / 255.0\n",
    "x_img_test_normalize = x_img_test.astype('float32') / 255.0"
   ]
  },
  {
   "cell_type": "code",
   "execution_count": 5,
   "metadata": {},
   "outputs": [
    {
     "data": {
      "text/plain": [
       "(10000, 10)"
      ]
     },
     "execution_count": 5,
     "metadata": {},
     "output_type": "execute_result"
    }
   ],
   "source": [
    "#針對 Label 做 ONE HOT ENCODE, 並查看維度資訊\n",
    "from keras.utils import np_utils\n",
    "y_label_train_OneHot = np_utils.to_categorical(y_label_train)\n",
    "y_label_test_OneHot = np_utils.to_categorical(y_label_test)\n",
    "y_label_test_OneHot.shape"
   ]
  },
  {
   "cell_type": "markdown",
   "metadata": {},
   "source": [
    "# 建立模型"
   ]
  },
  {
   "cell_type": "code",
   "execution_count": 6,
   "metadata": {},
   "outputs": [],
   "source": [
    "from keras.models import Sequential\n",
    "from keras.layers import Dense, Dropout, Activation, Flatten\n",
    "from keras.layers import Conv2D, MaxPooling2D, ZeroPadding2D"
   ]
  },
  {
   "cell_type": "code",
   "execution_count": 7,
   "metadata": {},
   "outputs": [],
   "source": [
    "# 宣告採用序列模型\n",
    "model = Sequential()"
   ]
  },
  {
   "cell_type": "code",
   "execution_count": 8,
   "metadata": {},
   "outputs": [],
   "source": [
    "#卷積層1與池化層1"
   ]
  },
  {
   "cell_type": "code",
   "execution_count": 9,
   "metadata": {},
   "outputs": [],
   "source": [
    "model.add(Conv2D(filters = 32, kernel_size = (3,3),\n",
    "                 input_shape = (32, 32, 3), \n",
    "                 activation = 'relu', \n",
    "                 padding = 'same'))\n",
    "model.add(MaxPooling2D(pool_size = (2, 2)))"
   ]
  },
  {
   "cell_type": "code",
   "execution_count": 10,
   "metadata": {},
   "outputs": [],
   "source": [
    "#卷積層2與池化層2"
   ]
  },
  {
   "cell_type": "code",
   "execution_count": 11,
   "metadata": {},
   "outputs": [],
   "source": [
    "model.add(Conv2D(filters = 64, kernel_size = (3, 3), \n",
    "                 activation = 'relu', padding = 'same'))\n",
    "model.add(MaxPooling2D(pool_size = (2, 2)))"
   ]
  },
  {
   "cell_type": "code",
   "execution_count": 12,
   "metadata": {},
   "outputs": [],
   "source": [
    "#卷積層3與池化層3"
   ]
  },
  {
   "cell_type": "code",
   "execution_count": 13,
   "metadata": {},
   "outputs": [],
   "source": [
    "model.add(Conv2D(filters = 128, kernel_size = (3, 3), \n",
    "                 activation = 'relu', padding = 'same'))\n",
    "model.add(MaxPooling2D(pool_size = (2, 2)))"
   ]
  },
  {
   "cell_type": "code",
   "execution_count": 14,
   "metadata": {},
   "outputs": [],
   "source": [
    "#卷積層4與池化層4"
   ]
  },
  {
   "cell_type": "code",
   "execution_count": 15,
   "metadata": {},
   "outputs": [],
   "source": [
    "model.add(Conv2D(filters = 256, kernel_size = (3, 3), \n",
    "                 activation = 'relu', padding = 'same'))\n",
    "model.add(MaxPooling2D(pool_size=(2, 2)))"
   ]
  },
  {
   "cell_type": "code",
   "execution_count": 16,
   "metadata": {},
   "outputs": [],
   "source": [
    "#建立神經網路(平坦層、隱藏層、輸出層)\n",
    "model.add(Flatten())\n"
   ]
  },
  {
   "cell_type": "code",
   "execution_count": 17,
   "metadata": {},
   "outputs": [],
   "source": [
    "#建立全網路連接層\n",
    "model.add(Dense(512, activation = 'relu'))\n",
    "model.add(Dense(512, activation = 'relu'))"
   ]
  },
  {
   "cell_type": "code",
   "execution_count": 18,
   "metadata": {},
   "outputs": [],
   "source": [
    "#建立輸出層\n",
    "model.add(Dense(10, activation = 'softmax'))"
   ]
  },
  {
   "cell_type": "code",
   "execution_count": 19,
   "metadata": {},
   "outputs": [
    {
     "name": "stdout",
     "output_type": "stream",
     "text": [
      "Model: \"sequential\"\n",
      "_________________________________________________________________\n",
      "Layer (type)                 Output Shape              Param #   \n",
      "=================================================================\n",
      "conv2d (Conv2D)              (None, 32, 32, 32)        896       \n",
      "_________________________________________________________________\n",
      "max_pooling2d (MaxPooling2D) (None, 16, 16, 32)        0         \n",
      "_________________________________________________________________\n",
      "conv2d_1 (Conv2D)            (None, 16, 16, 64)        18496     \n",
      "_________________________________________________________________\n",
      "max_pooling2d_1 (MaxPooling2 (None, 8, 8, 64)          0         \n",
      "_________________________________________________________________\n",
      "conv2d_2 (Conv2D)            (None, 8, 8, 128)         73856     \n",
      "_________________________________________________________________\n",
      "max_pooling2d_2 (MaxPooling2 (None, 4, 4, 128)         0         \n",
      "_________________________________________________________________\n",
      "conv2d_3 (Conv2D)            (None, 4, 4, 256)         295168    \n",
      "_________________________________________________________________\n",
      "max_pooling2d_3 (MaxPooling2 (None, 2, 2, 256)         0         \n",
      "_________________________________________________________________\n",
      "flatten (Flatten)            (None, 1024)              0         \n",
      "_________________________________________________________________\n",
      "dense (Dense)                (None, 512)               524800    \n",
      "_________________________________________________________________\n",
      "dense_1 (Dense)              (None, 512)               262656    \n",
      "_________________________________________________________________\n",
      "dense_2 (Dense)              (None, 10)                5130      \n",
      "=================================================================\n",
      "Total params: 1,181,002\n",
      "Trainable params: 1,181,002\n",
      "Non-trainable params: 0\n",
      "_________________________________________________________________\n",
      "None\n"
     ]
    }
   ],
   "source": [
    "#檢查 model 的 STACK\n",
    "print(model.summary())"
   ]
  },
  {
   "cell_type": "markdown",
   "metadata": {},
   "source": [
    "# 載入之前訓練的模型"
   ]
  },
  {
   "cell_type": "code",
   "execution_count": 20,
   "metadata": {},
   "outputs": [
    {
     "name": "stdout",
     "output_type": "stream",
     "text": [
      "載入模型失敗!開始訓練一個新模型\n"
     ]
    }
   ],
   "source": [
    "try:\n",
    "    model.load_weights(\"SaveModel/cifarCnnModel.h5\")\n",
    "    print(\"載入模型成功!繼續訓練模型\")\n",
    "except :    \n",
    "    print(\"載入模型失敗!開始訓練一個新模型\")"
   ]
  },
  {
   "cell_type": "markdown",
   "metadata": {},
   "source": [
    "# 訓練模型"
   ]
  },
  {
   "cell_type": "code",
   "execution_count": 21,
   "metadata": {},
   "outputs": [],
   "source": [
    "#模型編譯\n",
    "model.compile(loss = 'categorical_crossentropy', optimizer = 'Adam', metrics = ['accuracy'])"
   ]
  },
  {
   "cell_type": "code",
   "execution_count": 22,
   "metadata": {
    "scrolled": false
   },
   "outputs": [
    {
     "name": "stdout",
     "output_type": "stream",
     "text": [
      "Epoch 1/12\n",
      "293/293 [==============================] - 192s 655ms/step - loss: 1.6363 - accuracy: 0.3918 - val_loss: 1.3210 - val_accuracy: 0.5126\n",
      "Epoch 2/12\n",
      "293/293 [==============================] - 228s 778ms/step - loss: 1.2130 - accuracy: 0.5562 - val_loss: 1.1796 - val_accuracy: 0.5794\n",
      "Epoch 3/12\n",
      "293/293 [==============================] - 214s 729ms/step - loss: 0.9754 - accuracy: 0.6490 - val_loss: 0.9690 - val_accuracy: 0.6586\n",
      "Epoch 4/12\n",
      "293/293 [==============================] - 226s 773ms/step - loss: 0.8065 - accuracy: 0.7135 - val_loss: 0.8404 - val_accuracy: 0.7078\n",
      "Epoch 5/12\n",
      "293/293 [==============================] - 202s 691ms/step - loss: 0.6916 - accuracy: 0.7546 - val_loss: 0.8512 - val_accuracy: 0.7059\n",
      "Epoch 6/12\n",
      "293/293 [==============================] - 234s 798ms/step - loss: 0.5707 - accuracy: 0.7959 - val_loss: 0.8288 - val_accuracy: 0.7170\n",
      "Epoch 7/12\n",
      "293/293 [==============================] - 230s 784ms/step - loss: 0.4612 - accuracy: 0.8368 - val_loss: 0.8749 - val_accuracy: 0.7148\n",
      "Epoch 8/12\n",
      "293/293 [==============================] - 187s 637ms/step - loss: 0.3869 - accuracy: 0.8609 - val_loss: 0.9108 - val_accuracy: 0.7194\n",
      "Epoch 9/12\n",
      "293/293 [==============================] - 188s 643ms/step - loss: 0.3100 - accuracy: 0.8907 - val_loss: 0.9561 - val_accuracy: 0.7329\n",
      "Epoch 10/12\n",
      "293/293 [==============================] - 185s 631ms/step - loss: 0.2441 - accuracy: 0.9122 - val_loss: 0.9603 - val_accuracy: 0.7304\n",
      "Epoch 11/12\n",
      "293/293 [==============================] - 190s 650ms/step - loss: 0.1964 - accuracy: 0.9307 - val_loss: 1.2003 - val_accuracy: 0.7164\n",
      "Epoch 12/12\n",
      "293/293 [==============================] - 207s 708ms/step - loss: 0.1672 - accuracy: 0.9410 - val_loss: 1.1589 - val_accuracy: 0.7247\n"
     ]
    }
   ],
   "source": [
    "#模型訓練, \"Train_History\" 把訓練過程所得到的數值存起來\n",
    "train_history = model.fit(x_img_train_normalize, y_label_train_OneHot,\n",
    "                          validation_split = 0.25,\n",
    "                          epochs = 12, batch_size = 128, verbose = 1)         \n",
    "\n",
    "#[validation_split = 0.2] validation_split：在 0 和 1 之間浮動。用作驗證數據的訓練數據的分數。\n",
    "#該模型將訓練數據的這一部分分開，不會對其進行訓練，並將在每個時期結束時評估該數據的損失和任何模型指標。\n",
    "#[batch_size]：整數或 None。每個梯度更新的樣本數。指定，batch_size為128"
   ]
  },
  {
   "cell_type": "code",
   "execution_count": 23,
   "metadata": {},
   "outputs": [],
   "source": [
    "import matplotlib.pyplot as plt\n",
    "%matplotlib inline\n",
    "\n",
    "#定義一個繪圖函數\n",
    "def show_train_history(train_acc,test_acc):\n",
    "    plt.plot(train_history.history[train_acc])\n",
    "    plt.plot(train_history.history[test_acc])\n",
    "    plt.title('Train History')\n",
    "    plt.ylabel('Accuracy')\n",
    "    plt.xlabel('Epoch')\n",
    "    plt.legend(['train_acc', 'val_acc'], loc='upper left')\n",
    "    plt.show()"
   ]
  },
  {
   "cell_type": "code",
   "execution_count": 24,
   "metadata": {},
   "outputs": [
    {
     "data": {
      "image/png": "[encoded data removed]",
      "text/plain": [
       "<Figure size 432x288 with 1 Axes>"
      ]
     },
     "metadata": {
      "needs_background": "light"
     },
     "output_type": "display_data"
    }
   ],
   "source": [
    "show_train_history('accuracy','val_accuracy')"
   ]
  }
 ],
 "metadata": {
  "anaconda-cloud": {},
  "kernelspec": {
   "display_name": "Python 3",
   "language": "python",
   "name": "python3"
  },
  "language_info": {
   "codemirror_mode": {
    "name": "ipython",
    "version": 3
   },
   "file_extension": ".py",
   "mimetype": "text/x-python",
   "name": "python",
   "nbconvert_exporter": "python",
   "pygments_lexer": "ipython3",
   "version": "3.7.6"
  }
 },
 "nbformat": 4,
 "nbformat_minor": 1
}
