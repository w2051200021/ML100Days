{
 "cells": [
  {
   "cell_type": "markdown",
   "metadata": {},
   "source": [
    "## 使用內建功能讀取 txt 檔"
   ]
  },
  {
   "cell_type": "markdown",
   "metadata": {},
   "source": [
    "# [教學目標]\n",
    "- 示範 Pandas 各種 讀取 / 寫入 檔案的方式"
   ]
  },
  {
   "cell_type": "markdown",
   "metadata": {},
   "source": [
    "# [範例重點]\n",
    "- 讀取 txt 檔 (In[2], Out[2])\n",
    "- 存取 json 檔 (In[4], In[5], In[7], In[8])\n",
    "- 存取 npy 檔 (numpy專用檔, In[10], In[11]) \n",
    "- 讀取 Pickle 檔 (In[12], In[13])"
   ]
  },
  {
   "cell_type": "code",
   "execution_count": 4,
   "metadata": {},
   "outputs": [
    {
     "ename": "SyntaxError",
     "evalue": "invalid syntax (<ipython-input-4-dee6340ff95e>, line 1)",
     "output_type": "error",
     "traceback": [
      "\u001b[1;36m  File \u001b[1;32m\"<ipython-input-4-dee6340ff95e>\"\u001b[1;36m, line \u001b[1;32m1\u001b[0m\n\u001b[1;33m    C:/Users/user/Desktop/機器學習馬拉松/data/padas input\u001b[0m\n\u001b[1;37m      ^\u001b[0m\n\u001b[1;31mSyntaxError\u001b[0m\u001b[1;31m:\u001b[0m invalid syntax\n"
     ]
    }
   ],
   "source": [
    "C:/Users/user/Desktop/ML marathon/data/padas input/"
   ]
  },
  {
   "cell_type": "code",
   "execution_count": 36,
   "metadata": {
    "scrolled": true
   },
   "outputs": [
    {
     "name": "stdout",
     "output_type": "stream",
     "text": [
      "Time took to read: 0.02892160415649414 seconds.\n",
      "['id,sex,age,score\\n', '001,F,20,77\\n', '002,F,25,90\\n', '003,M,22,80\\n', '004,F,30,66\\n', '005,M,40,60\\n', '006,M,29,87']\n"
     ]
    }
   ],
   "source": [
    "import time\n",
    "\n",
    "t1 = time.time()\n",
    "with open(\"C:/Users/user/Desktop/ML marathon/data/padas input/example.txt\", 'r') as f:\n",
    "    data = f.readlines()\n",
    "t2 = time.time()\n",
    "print(f\"Time took to read: {t2-t1} seconds.\")\n",
    "print(data)"
   ]
  },
  {
   "cell_type": "markdown",
   "metadata": {},
   "source": [
    "## 將 txt 轉成 pandas dataframe"
   ]
  },
  {
   "cell_type": "code",
   "execution_count": 37,
   "metadata": {},
   "outputs": [
    {
     "data": {
      "text/plain": [
       "[['id', 'sex', 'age', 'score'],\n",
       " ['001', 'F', '20', '77'],\n",
       " ['002', 'F', '25', '90'],\n",
       " ['003', 'M', '22', '80'],\n",
       " ['004', 'F', '30', '66'],\n",
       " ['005', 'M', '40', '60'],\n",
       " ['006', 'M', '29', '87']]"
      ]
     },
     "execution_count": 37,
     "metadata": {},
     "output_type": "execute_result"
    }
   ],
   "source": [
    "import pandas as pd\n",
    "\n",
    "data = []\n",
    "with open(\"C:/Users/user/Desktop/ML marathon/data/padas input/example.txt\", 'r') as f:\n",
    "    for line in f:\n",
    "        #line = line.replace('\\n', '').split(',') # 將每句最後的 /n 取代成空值後，再以逗號斷句\n",
    "        line = line.strip('\\n').split(',')\n",
    "        data.append(line)\n",
    "data"
   ]
  },
  {
   "cell_type": "code",
   "execution_count": 16,
   "metadata": {},
   "outputs": [
    {
     "data": {
      "text/html": [
       "<div>\n",
       "<style scoped>\n",
       "    .dataframe tbody tr th:only-of-type {\n",
       "        vertical-align: middle;\n",
       "    }\n",
       "\n",
       "    .dataframe tbody tr th {\n",
       "        vertical-align: top;\n",
       "    }\n",
       "\n",
       "    .dataframe thead th {\n",
       "        text-align: right;\n",
       "    }\n",
       "</style>\n",
       "<table border=\"1\" class=\"dataframe\">\n",
       "  <thead>\n",
       "    <tr style=\"text-align: right;\">\n",
       "      <th></th>\n",
       "      <th>id</th>\n",
       "      <th>sex</th>\n",
       "      <th>age</th>\n",
       "      <th>score</th>\n",
       "    </tr>\n",
       "  </thead>\n",
       "  <tbody>\n",
       "    <tr>\n",
       "      <th>0</th>\n",
       "      <td>001</td>\n",
       "      <td>F</td>\n",
       "      <td>20</td>\n",
       "      <td>77</td>\n",
       "    </tr>\n",
       "    <tr>\n",
       "      <th>1</th>\n",
       "      <td>002</td>\n",
       "      <td>F</td>\n",
       "      <td>25</td>\n",
       "      <td>90</td>\n",
       "    </tr>\n",
       "    <tr>\n",
       "      <th>2</th>\n",
       "      <td>003</td>\n",
       "      <td>M</td>\n",
       "      <td>22</td>\n",
       "      <td>80</td>\n",
       "    </tr>\n",
       "    <tr>\n",
       "      <th>3</th>\n",
       "      <td>004</td>\n",
       "      <td>F</td>\n",
       "      <td>30</td>\n",
       "      <td>66</td>\n",
       "    </tr>\n",
       "    <tr>\n",
       "      <th>4</th>\n",
       "      <td>005</td>\n",
       "      <td>M</td>\n",
       "      <td>40</td>\n",
       "      <td>60</td>\n",
       "    </tr>\n",
       "    <tr>\n",
       "      <th>5</th>\n",
       "      <td>006</td>\n",
       "      <td>M</td>\n",
       "      <td>29</td>\n",
       "      <td>87</td>\n",
       "    </tr>\n",
       "  </tbody>\n",
       "</table>\n",
       "</div>"
      ],
      "text/plain": [
       "    id sex age score\n",
       "0  001   F  20    77\n",
       "1  002   F  25    90\n",
       "2  003   M  22    80\n",
       "3  004   F  30    66\n",
       "4  005   M  40    60\n",
       "5  006   M  29    87"
      ]
     },
     "execution_count": 16,
     "metadata": {},
     "output_type": "execute_result"
    }
   ],
   "source": [
    "df = pd.DataFrame(data[1:])\n",
    "df.columns = data[0]\n",
    "df"
   ]
  },
  {
   "cell_type": "markdown",
   "metadata": {},
   "source": [
    "## 將資料轉成 json 檔後輸出\n",
    "將 json 讀回來後，是否與我們原本想要存入的方式一樣? (以 id 為 key)"
   ]
  },
  {
   "cell_type": "code",
   "execution_count": 38,
   "metadata": {},
   "outputs": [],
   "source": [
    "import json\n",
    "df.to_json('C:/Users/user/Desktop/ML marathon/data/padas input/example01.json')\n"
   ]
  },
  {
   "cell_type": "code",
   "execution_count": 39,
   "metadata": {},
   "outputs": [
    {
     "data": {
      "text/plain": [
       "{'sex': {'001': 'F',\n",
       "  '002': 'F',\n",
       "  '003': 'M',\n",
       "  '004': 'F',\n",
       "  '005': 'M',\n",
       "  '006': 'M'},\n",
       " 'age': {'001': '20',\n",
       "  '002': '25',\n",
       "  '003': '22',\n",
       "  '004': '30',\n",
       "  '005': '40',\n",
       "  '006': '29'},\n",
       " 'score': {'001': '77',\n",
       "  '002': '90',\n",
       "  '003': '80',\n",
       "  '004': '66',\n",
       "  '005': '60',\n",
       "  '006': '87'}}"
      ]
     },
     "execution_count": 39,
     "metadata": {},
     "output_type": "execute_result"
    }
   ],
   "source": [
    "# 上面的存入方式，會將 column name 做為主要的 key, row name 做為次要的 key\n",
    "with open('C:/Users/user/Desktop/ML marathon/data/padas input/example01.json', 'r') as f:\n",
    "    j1 = json.load(f)\n",
    "j1"
   ]
  },
  {
   "cell_type": "code",
   "execution_count": 18,
   "metadata": {},
   "outputs": [
    {
     "data": {
      "text/html": [
       "<div>\n",
       "<style scoped>\n",
       "    .dataframe tbody tr th:only-of-type {\n",
       "        vertical-align: middle;\n",
       "    }\n",
       "\n",
       "    .dataframe tbody tr th {\n",
       "        vertical-align: top;\n",
       "    }\n",
       "\n",
       "    .dataframe thead th {\n",
       "        text-align: right;\n",
       "    }\n",
       "</style>\n",
       "<table border=\"1\" class=\"dataframe\">\n",
       "  <thead>\n",
       "    <tr style=\"text-align: right;\">\n",
       "      <th></th>\n",
       "      <th>sex</th>\n",
       "      <th>age</th>\n",
       "      <th>score</th>\n",
       "    </tr>\n",
       "    <tr>\n",
       "      <th>id</th>\n",
       "      <th></th>\n",
       "      <th></th>\n",
       "      <th></th>\n",
       "    </tr>\n",
       "  </thead>\n",
       "  <tbody>\n",
       "    <tr>\n",
       "      <th>001</th>\n",
       "      <td>F</td>\n",
       "      <td>20</td>\n",
       "      <td>77</td>\n",
       "    </tr>\n",
       "    <tr>\n",
       "      <th>002</th>\n",
       "      <td>F</td>\n",
       "      <td>25</td>\n",
       "      <td>90</td>\n",
       "    </tr>\n",
       "    <tr>\n",
       "      <th>003</th>\n",
       "      <td>M</td>\n",
       "      <td>22</td>\n",
       "      <td>80</td>\n",
       "    </tr>\n",
       "    <tr>\n",
       "      <th>004</th>\n",
       "      <td>F</td>\n",
       "      <td>30</td>\n",
       "      <td>66</td>\n",
       "    </tr>\n",
       "    <tr>\n",
       "      <th>005</th>\n",
       "      <td>M</td>\n",
       "      <td>40</td>\n",
       "      <td>60</td>\n",
       "    </tr>\n",
       "    <tr>\n",
       "      <th>006</th>\n",
       "      <td>M</td>\n",
       "      <td>29</td>\n",
       "      <td>87</td>\n",
       "    </tr>\n",
       "  </tbody>\n",
       "</table>\n",
       "</div>"
      ],
      "text/plain": [
       "    sex age score\n",
       "id               \n",
       "001   F  20    77\n",
       "002   F  25    90\n",
       "003   M  22    80\n",
       "004   F  30    66\n",
       "005   M  40    60\n",
       "006   M  29    87"
      ]
     },
     "execution_count": 18,
     "metadata": {},
     "output_type": "execute_result"
    }
   ],
   "source": [
    "df.set_index('id', inplace=True)\n",
    "df"
   ]
  },
  {
   "cell_type": "code",
   "execution_count": 40,
   "metadata": {},
   "outputs": [],
   "source": [
    "df.to_json('C:/Users/user/Desktop/ML marathon/data/padas input/example02.json', orient='index')"
   ]
  },
  {
   "cell_type": "code",
   "execution_count": 41,
   "metadata": {},
   "outputs": [
    {
     "data": {
      "text/plain": [
       "{'001': {'sex': 'F', 'age': '20', 'score': '77'},\n",
       " '002': {'sex': 'F', 'age': '25', 'score': '90'},\n",
       " '003': {'sex': 'M', 'age': '22', 'score': '80'},\n",
       " '004': {'sex': 'F', 'age': '30', 'score': '66'},\n",
       " '005': {'sex': 'M', 'age': '40', 'score': '60'},\n",
       " '006': {'sex': 'M', 'age': '29', 'score': '87'}}"
      ]
     },
     "execution_count": 41,
     "metadata": {},
     "output_type": "execute_result"
    }
   ],
   "source": [
    "with open('C:/Users/user/Desktop/ML marathon/data/padas input/example02.json', 'r') as f:\n",
    "    j2 = json.load(f)\n",
    "j2"
   ]
  },
  {
   "cell_type": "markdown",
   "metadata": {},
   "source": [
    "## 將檔案存為 npy 檔\n",
    "一個專門儲存 numpy array 的檔案格式\n",
    "使用 npy 通常可以讓你更快讀取資料喔!  \n",
    "[建議閱讀](https://towardsdatascience.com/why-you-should-start-using-npy-file-more-often-df2a13cc0161)"
   ]
  },
  {
   "cell_type": "code",
   "execution_count": 22,
   "metadata": {},
   "outputs": [
    {
     "data": {
      "text/plain": [
       "array([['001', 'F', '20', '77'],\n",
       "       ['002', 'F', '25', '90'],\n",
       "       ['003', 'M', '22', '80'],\n",
       "       ['004', 'F', '30', '66'],\n",
       "       ['005', 'M', '40', '60'],\n",
       "       ['006', 'M', '29', '87']], dtype='<U3')"
      ]
     },
     "execution_count": 22,
     "metadata": {},
     "output_type": "execute_result"
    }
   ],
   "source": [
    "import numpy as np\n",
    "import time\n",
    "# 將 data 的數值部分轉成 numpy array\n",
    "array = np.array(data[1:])\n",
    "array"
   ]
  },
  {
   "cell_type": "code",
   "execution_count": 42,
   "metadata": {},
   "outputs": [],
   "source": [
    "np.save(arr=array, file='C:/Users/user/Desktop/ML marathon/data/padas input/example.npy')"
   ]
  },
  {
   "cell_type": "code",
   "execution_count": 43,
   "metadata": {},
   "outputs": [
    {
     "name": "stdout",
     "output_type": "stream",
     "text": [
      "Time took to read: 0.01891326904296875 seconds.\n"
     ]
    },
    {
     "data": {
      "text/plain": [
       "array([['001', 'F', '20', '77'],\n",
       "       ['002', 'F', '25', '90'],\n",
       "       ['003', 'M', '22', '80'],\n",
       "       ['004', 'F', '30', '66'],\n",
       "       ['005', 'M', '40', '60'],\n",
       "       ['006', 'M', '29', '87']], dtype='<U3')"
      ]
     },
     "execution_count": 43,
     "metadata": {},
     "output_type": "execute_result"
    }
   ],
   "source": [
    "t1=time.time()\n",
    "array_back = np.load('C:/Users/user/Desktop/ML marathon/data/padas input/example.npy')\n",
    "t2=time.time()\n",
    "print(f\"Time took to read: {t2-t1} seconds.\")\n",
    "array_back"
   ]
  },
  {
   "cell_type": "markdown",
   "metadata": {},
   "source": [
    "## Pickle\n",
    "存成 pickle 檔  \n",
    "什麼都包，什麼都不奇怪的 [Pickle](https://docs.python.org/3/library/pickle.html)  \n",
    "比如說 [CIFAR10](https://www.cs.toronto.edu/~kriz/cifar.html) 的資料集就是用 pickle 包的喔!"
   ]
  },
  {
   "cell_type": "code",
   "execution_count": 44,
   "metadata": {},
   "outputs": [],
   "source": [
    "import pickle\n",
    "with open('C:/Users/user/Desktop/ML marathon/data/padas input/example.pkl', 'wb') as f:\n",
    "    pickle.dump(file=f, obj=data)"
   ]
  },
  {
   "cell_type": "code",
   "execution_count": 45,
   "metadata": {},
   "outputs": [
    {
     "data": {
      "text/plain": [
       "[['id', 'sex', 'age', 'score'],\n",
       " ['001', 'F', '20', '77'],\n",
       " ['002', 'F', '25', '90'],\n",
       " ['003', 'M', '22', '80'],\n",
       " ['004', 'F', '30', '66'],\n",
       " ['005', 'M', '40', '60'],\n",
       " ['006', 'M', '29', '87']]"
      ]
     },
     "execution_count": 45,
     "metadata": {},
     "output_type": "execute_result"
    }
   ],
   "source": [
    "with open('C:/Users/user/Desktop/ML marathon/data/padas input/example.pkl', 'rb') as f:\n",
    "    pkl_data = pickle.load(f)\n",
    "pkl_data"
   ]
  },
  {
   "cell_type": "code",
   "execution_count": null,
   "metadata": {
    "collapsed": true
   },
   "outputs": [],
   "source": []
  }
 ],
 "metadata": {
  "anaconda-cloud": {},
  "kernelspec": {
   "display_name": "Python 3",
   "language": "python",
   "name": "python3"
  },
  "language_info": {
   "codemirror_mode": {
    "name": "ipython",
    "version": 3
   },
   "file_extension": ".py",
   "mimetype": "text/x-python",
   "name": "python",
   "nbconvert_exporter": "python",
   "pygments_lexer": "ipython3",
   "version": "3.7.6"
  }
 },
 "nbformat": 4,
 "nbformat_minor": 1
}
